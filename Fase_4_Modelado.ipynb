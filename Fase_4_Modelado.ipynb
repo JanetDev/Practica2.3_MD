{
  "nbformat": 4,
  "nbformat_minor": 0,
  "metadata": {
    "colab": {
      "provenance": [],
      "authorship_tag": "ABX9TyNVsT3dWnapWPqOer2DWouC",
      "include_colab_link": true
    },
    "kernelspec": {
      "name": "python3",
      "display_name": "Python 3"
    },
    "language_info": {
      "name": "python"
    }
  },
  "cells": [
    {
      "cell_type": "markdown",
      "metadata": {
        "id": "view-in-github",
        "colab_type": "text"
      },
      "source": [
        "<a href=\"https://colab.research.google.com/github/JanetDev/Practica2.3_MD/blob/main/Fase_4_Modelado.ipynb\" target=\"_parent\"><img src=\"https://colab.research.google.com/assets/colab-badge.svg\" alt=\"Open In Colab\"/></a>"
      ]
    },
    {
      "cell_type": "code",
      "execution_count": null,
      "metadata": {
        "id": "M5ow9QTIpM7g"
      },
      "outputs": [],
      "source": [
        "from sklearn.metrics.pairwise import cosine_similarity\n",
        "from sklearn.feature_extraction.text import TfidfVectorizer\n",
        "import numpy as np\n",
        "\n",
        "user_title = input(\"Ingresa el título de la película o palabra clave: \")\n",
        "\n",
        "# Calcula la similitud del coseno entre el título ingresado y los taglines\n",
        "tfidf_vectorizer = TfidfVectorizer()\n",
        "tfidf_matrix = tfidf_vectorizer.fit_transform(df_imdb['tagline'].fillna(''))\n",
        "user_title_vector = tfidf_vectorizer.transform([user_title])\n",
        "\n",
        "cosine_sim = cosine_similarity(user_title_vector, tfidf_matrix)\n",
        "similar_movies_with_indices = list(enumerate(cosine_sim[0]))\n",
        "\n",
        "# Ordena la lista de películas por similitud en orden descendente\n",
        "similar_movies_with_indices.sort(key=lambda x: x[1], reverse=True)\n",
        "\n",
        "# 5 películas más similares\n",
        "print(\"Las películas más similares al título ingresado son:\")\n",
        "\n",
        "for i, similarity in similar_movies_with_indices[1:6]:\n",
        "    print(f\"Película: {df_imdb['name'].iloc[i]} - Similitud del coseno: {similarity:.2f}\")"
      ]
    }
  ]
}